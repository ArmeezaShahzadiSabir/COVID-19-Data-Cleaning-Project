{
 "cells": [
  {
   "cell_type": "code",
   "execution_count": 31,
   "id": "1431536c-f2a8-4dfb-aabc-944d7b600f00",
   "metadata": {},
   "outputs": [],
   "source": [
    "import pandas as pd\n",
    "import numpy as np\n",
    "import seaborn as sns\n",
    "import matplotlib.pyplot as plt\n",
    "from datetime import datetime"
   ]
  },
  {
   "cell_type": "code",
   "execution_count": 33,
   "id": "14539093-2054-480a-a2cc-f04549a1b7de",
   "metadata": {},
   "outputs": [],
   "source": [
    "data = pd.read_csv(\"..\\data\\WHO-COVID-19-global-daily-data.csv\")"
   ]
  },
  {
   "cell_type": "code",
   "execution_count": 34,
   "id": "4adadf20-bd42-4b2d-8597-b6af6ea009ee",
   "metadata": {},
   "outputs": [
    {
     "name": "stdout",
     "output_type": "stream",
     "text": [
      "Rows: 477600, Columns: 8\n",
      "\n",
      "   Date_reported Country_code                           Country WHO_region  \\\n",
      "0    2020-01-04           VC  Saint Vincent and the Grenadines        AMR   \n",
      "1    2020-01-04           SN                           Senegal        AFR   \n",
      "2    2020-01-04           SB                   Solomon Islands        WPR   \n",
      "3    2020-01-04           LK                         Sri Lanka       SEAR   \n",
      "4    2020-01-04           SY              Syrian Arab Republic        EMR   \n",
      "\n",
      "   New_cases  Cumulative_cases  New_deaths  Cumulative_deaths  \n",
      "0        NaN                 0         NaN                  0  \n",
      "1        NaN                 0         NaN                  0  \n",
      "2        0.0                 0         0.0                  0  \n",
      "3        0.0                 0         0.0                  0  \n",
      "4        NaN                 0         NaN                  0  \n",
      "\n",
      " Date_reported         object\n",
      "Country_code          object\n",
      "Country               object\n",
      "WHO_region            object\n",
      "New_cases            float64\n",
      "Cumulative_cases       int64\n",
      "New_deaths           float64\n",
      "Cumulative_deaths      int64\n",
      "dtype: object\n",
      "\n",
      " Date_reported             0\n",
      "Country_code           1990\n",
      "Country                   0\n",
      "WHO_region                0\n",
      "New_cases            267995\n",
      "Cumulative_cases          0\n",
      "New_deaths           323992\n",
      "Cumulative_deaths         0\n",
      "dtype: int64\n"
     ]
    }
   ],
   "source": [
    "#Initial Inspection\n",
    "\n",
    "print(f\"Rows: {data.shape[0]}, Columns: {data.shape[1]}\")\n",
    "print(\"\\n\", data.head())\n",
    "print(\"\\n\", data.dtypes)\n",
    "print(\"\\n\", data.isnull().sum())"
   ]
  },
  {
   "cell_type": "code",
   "execution_count": 36,
   "id": "dd186287-59b5-4d31-9c4f-dfd6432ef6b3",
   "metadata": {},
   "outputs": [
    {
     "name": "stdout",
     "output_type": "stream",
     "text": [
      "Columns renamed to: ['date_reported', 'country_code', 'country', 'who_region', 'new_cases', 'cumulative_cases', 'new_deaths', 'cumulative_deaths']\n"
     ]
    }
   ],
   "source": [
    "#Standardizing Columns Names\n",
    "data.columns = data.columns.str.lower().str.replace('[^a-z0-9]', '_', regex = True)\n",
    "print(\"Columns renamed to:\", data.columns.tolist())"
   ]
  },
  {
   "cell_type": "code",
   "execution_count": 39,
   "id": "e351d5bb-a526-4418-9de7-4cb83d0487e1",
   "metadata": {},
   "outputs": [],
   "source": [
    "#Handling Missing Data\n",
    "#for cumulative_counts, forward fill method (ffill)\n",
    "cols_to_ffill = ['cumulative_cases', 'cumulative_deaths']\n",
    "data[cols_to_ffill] = data[cols_to_ffill].fillna(method='ffill')"
   ]
  },
  {
   "cell_type": "code",
   "execution_count": 41,
   "id": "ee3e73a4-3ba9-4e12-a06c-6fe6b61652b1",
   "metadata": {},
   "outputs": [],
   "source": [
    "#for daily counts, fill with 0 (assuming no cases/deaths if not reported)\n",
    "cols_to_zero = ['new_cases', 'new_deaths']\n",
    "data[cols_to_zero] = data[cols_to_zero].fillna(0)"
   ]
  },
  {
   "cell_type": "code",
   "execution_count": 43,
   "id": "87f517d9-7a0f-458a-a4f5-44a6b3f49724",
   "metadata": {},
   "outputs": [
    {
     "name": "stdout",
     "output_type": "stream",
     "text": [
      "date_reported           0\n",
      "country_code         1990\n",
      "country                 0\n",
      "who_region              0\n",
      "new_cases               0\n",
      "cumulative_cases        0\n",
      "new_deaths              0\n",
      "cumulative_deaths       0\n",
      "dtype: int64\n"
     ]
    }
   ],
   "source": [
    "#after handling missing data\n",
    "print(data.isnull().sum())"
   ]
  },
  {
   "cell_type": "code",
   "execution_count": 45,
   "id": "9db4b8ea-a794-4365-9f99-88d53c869391",
   "metadata": {},
   "outputs": [],
   "source": [
    "#Fix Data Quality Issues\n",
    "# A. handle -ve values\n",
    "data['new_cases'] = data['new_cases'].abs()\n",
    "data['new_deaths'] = data['new_deaths'].abs"
   ]
  },
  {
   "cell_type": "code",
   "execution_count": 47,
   "id": "71fd136a-1f36-4014-95de-9f252dc44f5e",
   "metadata": {},
   "outputs": [],
   "source": [
    "# B. standardize country names\n",
    "country_mapping = {\n",
    "    'US': 'United States of America',\n",
    "    'USA': 'United States of America',\n",
    "    'UK': 'United Kingdom',\n",
    "    'Korea, South': 'South Korean'\n",
    "}\n",
    "data['country'] = data['country'].replace(country_mapping)"
   ]
  },
  {
   "cell_type": "code",
   "execution_count": 49,
   "id": "f9e91ff3-5f43-406f-a4b7-e994e7f39015",
   "metadata": {},
   "outputs": [
    {
     "name": "stdout",
     "output_type": "stream",
     "text": [
      "\n",
      "Removed 0 duplicate rows\n"
     ]
    }
   ],
   "source": [
    "# C. remove duplicate rows (same data + country)\n",
    "duplicates_before = data.duplicated(subset=['date_reported', 'country']).sum()\n",
    "data = data.drop_duplicates(subset=['date_reported', 'country'], keep='first')\n",
    "duplicates_after = data.duplicated(subset=['date_reported', 'country']).sum()\n",
    "print(f\"\\nRemoved {duplicates_before - duplicates_after} duplicate rows\")"
   ]
  },
  {
   "cell_type": "code",
   "execution_count": 51,
   "id": "ea36bb97-c384-4805-81f1-1e9bc1bebef0",
   "metadata": {},
   "outputs": [
    {
     "name": "stdout",
     "output_type": "stream",
     "text": [
      "        Before Cleaning                                     After Cleaning\n",
      "25%        0.000000e+00                                                NaN\n",
      "50%        0.000000e+00                                                NaN\n",
      "75%        3.100000e+01                                                NaN\n",
      "count      4.776000e+05                                             477600\n",
      "freq                NaN                                             477600\n",
      "max        6.966046e+06                                                NaN\n",
      "mean       1.629825e+03                                                NaN\n",
      "min        0.000000e+00                                                NaN\n",
      "std        3.228088e+04                                                NaN\n",
      "top                 NaN  <bound method NDFrame.abs of 0         0.0\\n1 ...\n",
      "unique              NaN                                                  1\n"
     ]
    }
   ],
   "source": [
    "#Validate & Compare\n",
    "print(pd.DataFrame({\n",
    "    'Before Cleaning': data['new_cases'].describe(),\n",
    "    'After Cleaning': data['new_deaths'].describe()\n",
    "}))"
   ]
  },
  {
   "cell_type": "code",
   "execution_count": 82,
   "id": "4d5049ea-6175-4819-9b34-ff884be060f6",
   "metadata": {},
   "outputs": [
    {
     "data": {
      "text/plain": [
       "<Figure size 1200x600 with 0 Axes>"
      ]
     },
     "execution_count": 82,
     "metadata": {},
     "output_type": "execute_result"
    },
    {
     "data": {
      "text/plain": [
       "<Figure size 1200x600 with 0 Axes>"
      ]
     },
     "metadata": {},
     "output_type": "display_data"
    }
   ],
   "source": [
    "#Visual Comparison\n",
    "plt.figure(figsize=(12,6))"
   ]
  },
  {
   "cell_type": "code",
   "execution_count": 84,
   "id": "b30fef18-9629-4e58-b344-5d0ba2c43887",
   "metadata": {},
   "outputs": [
    {
     "data": {
      "image/png": "[encoded data removed]",
      "text/plain": [
       "<Figure size 640x480 with 2 Axes>"
      ]
     },
     "metadata": {},
     "output_type": "display_data"
    }
   ],
   "source": [
    "#Before Cleaning (using original data)\n",
    "plt.subplot(1, 2, 1)\n",
    "sns.histplot(data=data, x='new_cases', bins=50)\n",
    "plt.title('New Cases Distribution (Before Cleaning)')\n",
    "#After Cleaning\n",
    "plt.subplot(1, 2, 2)\n",
    "sns.histplot(data=data, x='new_cases', bins=50)\n",
    "plt.title('New Cases Distribution (After Cleaning)')\n",
    "plt.tight_layout()\n",
    "plt.savefig(\"..\\plots\\cleaning_comparison.png\")"
   ]
  },
  {
   "cell_type": "code",
   "execution_count": 85,
   "id": "74d1883f-b8c8-47f7-891d-d3374fcb8839",
   "metadata": {},
   "outputs": [],
   "source": [
    "data.to_csv('..\\data\\cleaned_covid_data.csv', index=False)"
   ]
  },
  {
   "cell_type": "code",
   "execution_count": 86,
   "id": "b7842f3d-e51d-4ce2-9caa-84a365833094",
   "metadata": {},
   "outputs": [
    {
     "name": "stdout",
     "output_type": "stream",
     "text": [
      "\n",
      "=== CLEANING REPORT ===\n",
      "Original records: 477600\n",
      "Columns cleaned: 8\n",
      "Duplicates removed: 0\n",
      "\n",
      "Top 5 Countries by Total Cases:\n",
      "country\n",
      "United States of America    103436829.0\n",
      "China                        99381761.0\n",
      "India                        45056193.0\n",
      "France                       39040627.0\n",
      "Germany                      38437865.0\n",
      "Name: new_cases, dtype: float64\n"
     ]
    }
   ],
   "source": [
    "#Report generation\n",
    "print(\"\\n=== CLEANING REPORT ===\")\n",
    "print(f\"Original records: {data.shape[0]}\")\n",
    "print(f\"Columns cleaned: {len(data.columns)}\")\n",
    "print(f\"Duplicates removed: {duplicates_before - duplicates_after}\")\n",
    "print(\"\\nTop 5 Countries by Total Cases:\")\n",
    "print(data.groupby('country')['new_cases'].sum().sort_values(ascending=False).head(5))"
   ]
  },
  {
   "cell_type": "code",
   "execution_count": null,
   "id": "5a500f93-7126-4a62-9e1d-bc4ef2a946ce",
   "metadata": {},
   "outputs": [],
   "source": []
  }
 ],
 "metadata": {
  "kernelspec": {
   "display_name": "Python [conda env:base] *",
   "language": "python",
   "name": "conda-base-py"
  },
  "language_info": {
   "codemirror_mode": {
    "name": "ipython",
    "version": 3
   },
   "file_extension": ".py",
   "mimetype": "text/x-python",
   "name": "python",
   "nbconvert_exporter": "python",
   "pygments_lexer": "ipython3",
   "version": "3.11.5"
  }
 },
 "nbformat": 4,
 "nbformat_minor": 5
}
